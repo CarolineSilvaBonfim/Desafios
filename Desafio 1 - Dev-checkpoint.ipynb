{
 "cells": [
  {
   "cell_type": "code",
   "execution_count": 3,
   "id": "85e9018d",
   "metadata": {},
   "outputs": [
    {
     "name": "stdout",
     "output_type": "stream",
     "text": [
      "Preencha a quantidade de dias utilizados 8\n",
      "Preencha a quantidade de kilometros percorridos 720\n",
      "O valor final a ser pago é de: R$ 588.0 \n"
     ]
    }
   ],
   "source": [
    "DU = int(input(\"Preencha a quantidade de dias utilizados \"))\n",
    "KP = float(input(\"Preencha a quantidade de kilometros percorridos \")) \n",
    "\n",
    "Valor_Total = DU*60.0 + KP*0.15\n",
    "\n",
    "print(f\"O valor final a ser pago é de: R$ {Valor_Total} \")"
   ]
  },
  {
   "cell_type": "code",
   "execution_count": null,
   "id": "863141cc",
   "metadata": {},
   "outputs": [],
   "source": []
  }
 ],
 "metadata": {
  "kernelspec": {
   "display_name": "Python 3 (ipykernel)",
   "language": "python",
   "name": "python3"
  },
  "language_info": {
   "codemirror_mode": {
    "name": "ipython",
    "version": 3
   },
   "file_extension": ".py",
   "mimetype": "text/x-python",
   "name": "python",
   "nbconvert_exporter": "python",
   "pygments_lexer": "ipython3",
   "version": "3.9.7"
  }
 },
 "nbformat": 4,
 "nbformat_minor": 5
}
