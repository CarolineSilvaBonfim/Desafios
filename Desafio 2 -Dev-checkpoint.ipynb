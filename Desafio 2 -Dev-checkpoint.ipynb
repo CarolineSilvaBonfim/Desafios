{
 "cells": [
  {
   "cell_type": "code",
   "execution_count": 1,
   "id": "93b63ef4",
   "metadata": {},
   "outputs": [
    {
     "name": "stdout",
     "output_type": "stream",
     "text": [
      "Digite um número para obter seu dobro, seu triplo e sua raiz quadrada9\n",
      "Para o número 9.0 o dobro corresponde a 18.0 o triplo a 27.0 e a raiz quadrada a 3.0\n"
     ]
    }
   ],
   "source": [
    "import math \n",
    "\n",
    "num = float(input(\"Digite um número para obter seu dobro, seu triplo e sua raiz quadrada\"))\n",
    "\n",
    "dobro = num*2\n",
    "triplo = num*3\n",
    "raiz = math.sqrt(num)\n",
    "\n",
    "print(f\"Para o número {num} o dobro corresponde a {dobro} o triplo a {triplo} e a raiz quadrada a {raiz}\")"
   ]
  },
  {
   "cell_type": "code",
   "execution_count": null,
   "id": "db98b356",
   "metadata": {},
   "outputs": [],
   "source": []
  }
 ],
 "metadata": {
  "kernelspec": {
   "display_name": "Python 3 (ipykernel)",
   "language": "python",
   "name": "python3"
  },
  "language_info": {
   "codemirror_mode": {
    "name": "ipython",
    "version": 3
   },
   "file_extension": ".py",
   "mimetype": "text/x-python",
   "name": "python",
   "nbconvert_exporter": "python",
   "pygments_lexer": "ipython3",
   "version": "3.9.7"
  }
 },
 "nbformat": 4,
 "nbformat_minor": 5
}
