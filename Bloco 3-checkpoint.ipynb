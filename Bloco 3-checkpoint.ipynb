{
 "cells": [
  {
   "cell_type": "code",
   "execution_count": 46,
   "id": "9320a79e",
   "metadata": {},
   "outputs": [
    {
     "name": "stdout",
     "output_type": "stream",
     "text": [
      "Digite o ano de nascimento: 1962\n",
      "Voto obrigatório\n"
     ]
    }
   ],
   "source": [
    "from datetime import date\n",
    "AA = date.today().year\n",
    "AN = int(input(\"Digite o ano de nascimento: \"))\n",
    "\n",
    "def voto(AN,AA):\n",
    "    idade = AA - AN\n",
    "    return idade\n",
    "\n",
    "if  AN < 1922  or  AN > AA:\n",
    "    print('Ano inválido')\n",
    "else:\n",
    "    if voto(AN,AA) < 16:\n",
    "        print ('Voto negado')\n",
    "    if 16 < voto(AN,AA) < 18 or voto(AN,AA) > 70:\n",
    "        print ('Voto opcional')\n",
    "    if 18 < voto(AN,AA) < 70:\n",
    "        print ('Voto obrigatório')\n",
    "        "
   ]
  },
  {
   "cell_type": "code",
   "execution_count": 65,
   "id": "efb745eb",
   "metadata": {},
   "outputs": [
    {
     "name": "stdout",
     "output_type": "stream",
     "text": [
      "Quantos parâmetros serão digitados? 1\n",
      "Digite um valor: 3\n",
      "O maior parãmetro recebido foi: 3\n"
     ]
    }
   ],
   "source": [
    "def maior(param):\n",
    "    maior_num = 0\n",
    "    for i in range (Numero_param):\n",
    "        if (param[i] > maior_num):\n",
    "            maior_num = param[i]\n",
    "    return maior_num\n",
    "param = list()\n",
    "Numero_param = int(input('Quantos parâmetros serão digitados? '))\n",
    "\n",
    "for i in range(Numero_param):\n",
    "    numero_novo = int(input('Digite um valor: '))\n",
    "    param.append(numero_novo)\n",
    "\n",
    "print('O maior parãmetro recebido foi:', maior(param))"
   ]
  },
  {
   "cell_type": "code",
   "execution_count": 114,
   "id": "11fec7cb",
   "metadata": {},
   "outputs": [
    {
     "name": "stdout",
     "output_type": "stream",
     "text": [
      "Digite um valor: \n",
      "O valor não é numerico, portanto, inválido\n"
     ]
    }
   ],
   "source": [
    "def leiaInt(msg):\n",
    "    \n",
    "    n = str(input(msg))\n",
    "    if n.isnumeric():\n",
    "        Correto = True\n",
    "    else:\n",
    "        Correto = False\n",
    "    if Correto is True:\n",
    "        print('O valor é numerico e corresponde a: ', n)\n",
    "    else:\n",
    "        print('O valor não é numerico, portanto, inválido')\n",
    "    return Correto\n",
    "\n",
    "n = leiaInt('Digite um valor: ')\n",
    "\n"
   ]
  },
  {
   "cell_type": "code",
   "execution_count": 115,
   "id": "f45a307b",
   "metadata": {},
   "outputs": [
    {
     "name": "stdout",
     "output_type": "stream",
     "text": [
      "Número que deseja saber o fatorial: 9\n",
      "Quer que seja mostrado na tela o processo do fatorial? 1\n",
      "9 x 8 x 7 x 6 x 5 x 4 x 3 x 2 x 1\n",
      "O fatorial é:  362880\n"
     ]
    }
   ],
   "source": [
    "def fatorial(num, mostra):\n",
    "    fat = 1\n",
    "    for i in range(num):\n",
    "        fat = (num-i)*fat\n",
    "    if (mostra == 1):\n",
    "        show = True\n",
    "    if (mostra == 0):\n",
    "        show = False\n",
    "    if show is True:\n",
    "        for i in range(num):\n",
    "            print(f'{num-i}', end ='' )\n",
    "            if (i in range(num-1)):\n",
    "                print(' x ', end ='' )\n",
    "        print('')\n",
    "\n",
    "    return fat\n",
    "num = int(input('Número que deseja saber o fatorial: '))\n",
    "mostra = int(input('Quer que seja mostrado na tela o processo do fatorial? '))\n",
    "\n",
    "print('O fatorial é: ', fatorial(num, mostra))"
   ]
  },
  {
   "cell_type": "code",
   "execution_count": null,
   "id": "33614003",
   "metadata": {},
   "outputs": [],
   "source": []
  }
 ],
 "metadata": {
  "kernelspec": {
   "display_name": "Python 3 (ipykernel)",
   "language": "python",
   "name": "python3"
  },
  "language_info": {
   "codemirror_mode": {
    "name": "ipython",
    "version": 3
   },
   "file_extension": ".py",
   "mimetype": "text/x-python",
   "name": "python",
   "nbconvert_exporter": "python",
   "pygments_lexer": "ipython3",
   "version": "3.9.7"
  }
 },
 "nbformat": 4,
 "nbformat_minor": 5
}
