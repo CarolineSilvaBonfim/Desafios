{
 "cells": [
  {
   "cell_type": "code",
   "execution_count": 2,
   "id": "932bbd8c",
   "metadata": {},
   "outputs": [
    {
     "name": "stdout",
     "output_type": "stream",
     "text": [
      "Digite a primeira nota do aluno: 9\n",
      "Digite a segunda nota aluno: 4\n",
      "A média do aluno é: 6.5\n"
     ]
    }
   ],
   "source": [
    "nota1 = float(input(\"Digite a primeira nota do aluno: \"))\n",
    "nota2 = float(input(\"Digite a segunda nota aluno: \"))\n",
    "\n",
    "media = (nota1 + nota2)/2\n",
    "\n",
    "print(f\"A média do aluno é: {media}\")"
   ]
  },
  {
   "cell_type": "code",
   "execution_count": null,
   "id": "f3adea50",
   "metadata": {},
   "outputs": [],
   "source": []
  }
 ],
 "metadata": {
  "kernelspec": {
   "display_name": "Python 3 (ipykernel)",
   "language": "python",
   "name": "python3"
  },
  "language_info": {
   "codemirror_mode": {
    "name": "ipython",
    "version": 3
   },
   "file_extension": ".py",
   "mimetype": "text/x-python",
   "name": "python",
   "nbconvert_exporter": "python",
   "pygments_lexer": "ipython3",
   "version": "3.9.7"
  }
 },
 "nbformat": 4,
 "nbformat_minor": 5
}
