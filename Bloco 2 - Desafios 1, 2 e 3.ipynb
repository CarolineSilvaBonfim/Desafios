{
 "cells": [
  {
   "cell_type": "code",
   "execution_count": 9,
   "id": "54984a37",
   "metadata": {},
   "outputs": [
    {
     "name": "stdout",
     "output_type": "stream",
     "text": [
      "Digite um número de 0 à 20: 9\n",
      "Este número por extenso corresponde a nove\n"
     ]
    }
   ],
   "source": [
    "npe = ('zero', 'um','dois','três','quatro','cinco','seis','sete','oito','nove','dez','onze','doze','treze','quatorze','quinze','dezesseis','dezessete','dezoito', 'dezenove','vinte')\n",
    "n = int(input('Digite um número de 0 à 20: '))\n",
    "if (n>=0) and (n<=20):\n",
    "    print(f'Este número por extenso corresponde a {npe[n]}')\n",
    "else:\n",
    "    print('Este número é inválido, é necessário que seja inserido um dígito entre 0 e 20')"
   ]
  },
  {
   "cell_type": "code",
   "execution_count": 15,
   "id": "feb21d8b",
   "metadata": {},
   "outputs": [
    {
     "name": "stdout",
     "output_type": "stream",
     "text": [
      "Quantos jogos irá realizar: 3\n",
      "\n",
      " Sugestão 1: \n",
      " 7 14 42 27 16 59\n",
      " Sugestão 2: \n",
      " 24 38 4 19 40 1\n",
      " Sugestão 3: \n",
      " 47 26 17 55 10 52\n",
      "Ao final, a lista composta será: \n",
      "[7, 14, 42, 27, 16, 59, 24, 38, 4, 19, 40, 1, 47, 26, 17, 55, 10, 52]\n"
     ]
    }
   ],
   "source": [
    "import random\n",
    "\n",
    "nj = int(input('Quantos jogos irá realizar: '))\n",
    "\n",
    "jogo = 0\n",
    "\n",
    "sj = list()\n",
    "while jogo < nj:\n",
    "   \n",
    "    print('')\n",
    "    print(f' Sugestão {jogo + 1}: ')\n",
    "    \n",
    "    for i in range(6):\n",
    "        valor = random.randint(1, 60)\n",
    "        sj.append(valor)\n",
    "        print(f' {valor}', end ='' )\n",
    "        \n",
    "    jogo = jogo + 1\n",
    "    \n",
    "print('')   \n",
    "print('Ao final, a lista composta será: ')\n",
    "print(sj)"
   ]
  },
  {
   "cell_type": "code",
   "execution_count": 32,
   "id": "78717ab5",
   "metadata": {},
   "outputs": [
    {
     "name": "stdout",
     "output_type": "stream",
     "text": [
      "Nome do aluno(a): Carol\n",
      "Média do Aluno: 6\n",
      "Estudante Carol com média 6.0 está aprovado(a)\n"
     ]
    }
   ],
   "source": [
    "N, M = str(input('Nome do aluno(a): ')), float(input('Média do Aluno: '))\n",
    "if M >= 5:\n",
    "    aluno = {'nome':'N', 'media':M, 'sit':'aprovado(a)'}\n",
    "else:\n",
    "    aluno['sit']='reprovado(a)'\n",
    "print(f'Estudante {N} com média {M} está', aluno['sit'])"
   ]
  },
  {
   "cell_type": "code",
   "execution_count": null,
   "id": "8fe473a4",
   "metadata": {},
   "outputs": [],
   "source": []
  }
 ],
 "metadata": {
  "kernelspec": {
   "display_name": "Python 3 (ipykernel)",
   "language": "python",
   "name": "python3"
  },
  "language_info": {
   "codemirror_mode": {
    "name": "ipython",
    "version": 3
   },
   "file_extension": ".py",
   "mimetype": "text/x-python",
   "name": "python",
   "nbconvert_exporter": "python",
   "pygments_lexer": "ipython3",
   "version": "3.9.7"
  }
 },
 "nbformat": 4,
 "nbformat_minor": 5
}
